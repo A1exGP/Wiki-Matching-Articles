{
 "cells": [
  {
   "cell_type": "markdown",
   "metadata": {},
   "source": [
    "# Automatically matching new Wikipedia articles with Wikidata items using Python - Task 3\n",
    "\n",
    "In this notebook:\n",
    "1. We implemented a function that looks for a data item given a string as input via the API. It returns a custom number of results each with a description that helps the user choose the best match.\n",
    "2. Created a function that returns the properties used in an item, or checks if an input list of properties is in that item. This allows to look for an item (T3), check its properties (T3) and return  desired statements only (T2)."
   ]
  },
  {
   "cell_type": "code",
   "execution_count": 2,
   "metadata": {},
   "outputs": [],
   "source": [
    "import pywikibot\n",
    "from pywikibot.data import api\n",
    "import requests\n",
    "from task2 import item_page, print_wikidata"
   ]
  },
  {
   "cell_type": "code",
   "execution_count": 3,
   "metadata": {},
   "outputs": [],
   "source": [
    "# Connect to enwiki\n",
    "enwiki = pywikibot.Site('en', 'wikipedia')\n",
    "# and then to wikidata\n",
    "enwiki_repo = enwiki.data_repository()"
   ]
  },
  {
   "cell_type": "code",
   "execution_count": 4,
   "metadata": {},
   "outputs": [],
   "source": [
    "# From the provided example.py\n",
    "def search_entities(site, itemtitle, limit):\n",
    "    if limit <= 50:\n",
    "     params = { 'action' :'wbsearchentities', \n",
    "                'format' : 'json',\n",
    "                'language' : 'en',\n",
    "                'limit' : limit,\n",
    "                'continue': 0,\n",
    "                'type' : 'item',\n",
    "                'search': itemtitle}\n",
    "     request = api.Request(site=site, parameters=params)\n",
    "     return request.submit()"
   ]
  },
  {
   "cell_type": "code",
   "execution_count": 5,
   "metadata": {},
   "outputs": [],
   "source": [
    " def search_item_description(label, limit):\n",
    "# Using the API to return QIDs and their descriptions\n",
    "    dic = search_entities(enwiki_repo, label, limit)\n",
    "    # Record of found QIDs \n",
    "    qids = [item['id'] for item in dic['search']]\n",
    "    \n",
    "    if dic:\n",
    "        for item in dic['search']:\n",
    "            page = item_page(item['id'])\n",
    "            # Corroborating a correct item with pywikibot\n",
    "            if page.get()['descriptions']['en'] == item['description']:\n",
    "                print(item['id'] + ' ' + item['label'])\n",
    "                # Show the description for the user to choose\n",
    "                print(item['description'])\n",
    "                print('\\n')\n",
    "                            \n",
    "            else:\n",
    "                print(item['description'] + ' does not match')\n",
    "        \n",
    "    print('Select QID:')\n",
    "    qid = input().upper()\n",
    "    print('\\n')\n",
    "    print('+++++++++++++++++++++++++++++++')\n",
    "    \n",
    "    if qid not in qids:\n",
    "        print('Warning: selected QID not a search result')\n",
    "        \n",
    "    return qid"
   ]
  },
  {
   "cell_type": "code",
   "execution_count": 6,
   "metadata": {},
   "outputs": [
    {
     "name": "stdout",
     "output_type": "stream",
     "text": [
      "Q2 Earth\n",
      "third planet from the Sun in the Solar System\n",
      "\n",
      "\n",
      "Q21152267 dirt\n",
      "natural surface of the ground\n",
      "\n",
      "\n",
      "Q83697636 Earth\n",
      "planet Earth as depicted in the 1987–1996 Teenage Mutant Ninja Turtles animated television series\n",
      "\n",
      "\n",
      "Select QID:\n",
      "q2\n",
      "\n",
      "\n",
      "+++++++++++++++++++++++++++++++\n"
     ]
    },
    {
     "data": {
      "text/plain": [
       "'Q2'"
      ]
     },
     "execution_count": 6,
     "metadata": {},
     "output_type": "execute_result"
    }
   ],
   "source": [
    "search_item_description('earth',3)"
   ]
  },
  {
   "cell_type": "code",
   "execution_count": 7,
   "metadata": {},
   "outputs": [],
   "source": [
    "# This function bridges the gap between Tasks 2 and 3\n",
    "def item_properties(qid, n = False):\n",
    "    page = item_page(qid)\n",
    "    item_dict = page.get() \n",
    "    \n",
    "    print(page.title() + ' ' + item_dict['labels']['en'])\n",
    "    print('\\n+++++++++++++++++++++++++++++++')\n",
    "    print('-------------------------------')\n",
    "    \n",
    "    # Display either all the item properties,\n",
    "    if n == False:\n",
    "        props = [prop for prop in item_dict['claims']]\n",
    "    # Or just the first n   \n",
    "    elif type(n) == int:\n",
    "        props = [prop for prop in item_dict['claims']][:n]\n",
    "    # Or we try for a passed list of props\n",
    "    elif type(n) == list:\n",
    "        props = n\n",
    "        \n",
    "    else:\n",
    "        print('Error. Please check the property list.')\n",
    "        return 0\n",
    "    \n",
    "    for prop in props:\n",
    "        # Check if the solicited properties are in our data item \n",
    "        if prop in item_dict['claims']:\n",
    "            # We show both the P code and the property name, easier for user to choose\n",
    "            prop_page = pywikibot.PropertyPage(enwiki_repo, 'Property:' + prop) \n",
    "            prop_name = prop_page.get()['labels']['en']\n",
    "            print(prop + ' ' + prop_name)      \n",
    "                  \n",
    "        else:\n",
    "            print('Warning: Property ' + prop + ' not in ' + qid)"
   ]
  },
  {
   "cell_type": "code",
   "execution_count": 8,
   "metadata": {},
   "outputs": [
    {
     "name": "stdout",
     "output_type": "stream",
     "text": [
      "Q2 Earth\n",
      "\n",
      "+++++++++++++++++++++++++++++++\n",
      "-------------------------------\n",
      "P1589 lowest point\n",
      "P1419 shape\n",
      "P527 has part\n",
      "P522 type of orbit\n",
      "P1036 Dewey Decimal Classification\n"
     ]
    }
   ],
   "source": [
    "item_properties('Q2',5)"
   ]
  },
  {
   "cell_type": "code",
   "execution_count": 9,
   "metadata": {},
   "outputs": [],
   "source": [
    "# Integrating finding QID through label and then showing data page info\n",
    "def search_item_data(label, n, p):\n",
    "    # n = number of items to display and select\n",
    "    # p = number or list of properties to display\n",
    "    qid = search_item_description(label, n)\n",
    "    return print_wikidata(qid, p)"
   ]
  },
  {
   "cell_type": "code",
   "execution_count": 10,
   "metadata": {
    "scrolled": true
   },
   "outputs": [
    {
     "name": "stdout",
     "output_type": "stream",
     "text": [
      "Q2 Earth\n",
      "third planet from the Sun in the Solar System\n",
      "\n",
      "\n",
      "Q21152267 dirt\n",
      "natural surface of the ground\n",
      "\n",
      "\n",
      "Q83697636 Earth\n",
      "planet Earth as depicted in the 1987–1996 Teenage Mutant Ninja Turtles animated television series\n",
      "\n",
      "\n",
      "Select QID:\n",
      "q2\n",
      "\n",
      "\n",
      "+++++++++++++++++++++++++++++++\n",
      "Q2 Earth\n",
      "\n",
      "+++++++++++++++++++++++++++++++\n",
      "-------------------------------\n",
      "P1589 lowest point\n",
      "\n",
      "\n",
      "Value: Challenger Deep\n",
      "Code: Q459173\n",
      "\n",
      "\n",
      "Value: Galathea Depth\n",
      "Code: Q1491734\n",
      "\n",
      "\n",
      "Value: Vityas Deep 1\n",
      "Code: Q2586548\n",
      "-------------------------------\n",
      "-------------------------------\n",
      "P1419 shape\n",
      "\n",
      "\n",
      "Value: oblate spheroid\n",
      "Code: Q3241540\n",
      "\n",
      "\n",
      "Value: geoid\n",
      "Code: Q185969\n",
      "\n",
      "\n",
      "Value: ball\n",
      "Code: Q838611\n",
      "\n",
      "\n",
      "Value: disk\n",
      "Code: Q238231\n",
      "-------------------------------\n",
      "-------------------------------\n"
     ]
    }
   ],
   "source": [
    "search_item_data('earth',3,2)"
   ]
  }
 ],
 "metadata": {
  "kernelspec": {
   "display_name": "Python 3",
   "language": "python",
   "name": "python3"
  },
  "language_info": {
   "codemirror_mode": {
    "name": "ipython",
    "version": 3
   },
   "file_extension": ".py",
   "mimetype": "text/x-python",
   "name": "python",
   "nbconvert_exporter": "python",
   "pygments_lexer": "ipython3",
   "version": "3.8.5"
  }
 },
 "nbformat": 4,
 "nbformat_minor": 4
}
